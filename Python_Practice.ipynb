{
  "nbformat": 4,
  "nbformat_minor": 0,
  "metadata": {
    "colab": {
      "provenance": [],
      "authorship_tag": "ABX9TyNVTGmAtcPLbnJyvmTJPvw9",
      "include_colab_link": true
    },
    "kernelspec": {
      "name": "python3",
      "display_name": "Python 3"
    },
    "language_info": {
      "name": "python"
    }
  },
  "cells": [
    {
      "cell_type": "markdown",
      "metadata": {
        "id": "view-in-github",
        "colab_type": "text"
      },
      "source": [
        "<a href=\"https://colab.research.google.com/github/Richesh111/Python/blob/main/Python_Practice.ipynb\" target=\"_parent\"><img src=\"https://colab.research.google.com/assets/colab-badge.svg\" alt=\"Open In Colab\"/></a>"
      ]
    },
    {
      "cell_type": "markdown",
      "source": [
        "#Finding leap year#"
      ],
      "metadata": {
        "id": "cj2FU-MsgPMo"
      }
    },
    {
      "cell_type": "code",
      "source": [
        "def is_leap(year):\n",
        "    if year%4==0 or year%100==0 or year%400==0:\n",
        "        leap= True\n",
        "    else:\n",
        "        leap = False\n",
        "    \n",
        "    # Write your logic here\n",
        "    \n",
        "    return leap\n",
        "\n",
        "year = int(input())\n",
        "print(is_leap(year))"
      ],
      "metadata": {
        "colab": {
          "base_uri": "https://localhost:8080/"
        },
        "id": "szM2iN-Vcsjo",
        "outputId": "bc6b85f9-b9fa-4e7f-888b-f08142fbf475"
      },
      "execution_count": null,
      "outputs": [
        {
          "output_type": "stream",
          "name": "stdout",
          "text": [
            "2000\n",
            "True\n"
          ]
        }
      ]
    },
    {
      "cell_type": "code",
      "source": [
        "Print(\"Richesh\")"
      ],
      "metadata": {
        "id": "IizEfmRyfgrw"
      },
      "execution_count": null,
      "outputs": []
    },
    {
      "cell_type": "code",
      "source": [
        "print(\"I am unstooppable\")"
      ],
      "metadata": {
        "colab": {
          "base_uri": "https://localhost:8080/"
        },
        "id": "Rx2-dfnZMrJV",
        "outputId": "fdf2c6f2-7e5c-4746-9732-2ceb1c69e8d2"
      },
      "execution_count": 3,
      "outputs": [
        {
          "output_type": "stream",
          "name": "stdout",
          "text": [
            "I am unstooppable\n"
          ]
        }
      ]
    },
    {
      "cell_type": "code",
      "source": [
        "def is_leap(year):\n",
        "    if year%4==0 or year%100==0 or year%400==0:\n",
        "        leap= True\n",
        "    else:\n",
        "        leap = False\n",
        "    \n",
        "    # Write your logic here\n",
        "    \n",
        "    return leap\n",
        "\n",
        "year = int(input())\n",
        "print(is_leap(year))"
      ],
      "metadata": {
        "colab": {
          "base_uri": "https://localhost:8080/"
        },
        "id": "1E7gHB2jMs0z",
        "outputId": "e55995dd-05ec-46fb-b50f-72ea7068152a"
      },
      "execution_count": 4,
      "outputs": [
        {
          "output_type": "stream",
          "name": "stdout",
          "text": [
            "22\n",
            "False\n"
          ]
        }
      ]
    },
    {
      "cell_type": "code",
      "source": [],
      "metadata": {
        "id": "9LJQIX0VOWJ2"
      },
      "execution_count": null,
      "outputs": []
    },
    {
      "cell_type": "code",
      "source": [],
      "metadata": {
        "id": "ktTf_zMMObel"
      },
      "execution_count": null,
      "outputs": []
    }
  ]
}